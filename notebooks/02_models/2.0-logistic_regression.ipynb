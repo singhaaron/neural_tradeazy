{
 "cells": [
  {
   "cell_type": "markdown",
   "source": [
    "<h3> Objectives</h3>\n",
    "<ul>\n",
    "<li>Determine if based on a range scale of dependent variables show discrete outcome of positive or negative.</li>\n",
    "</ul>"
   ],
   "metadata": {}
  }
 ],
 "metadata": {
  "orig_nbformat": 4,
  "language_info": {
   "name": "python"
  }
 },
 "nbformat": 4,
 "nbformat_minor": 2
}