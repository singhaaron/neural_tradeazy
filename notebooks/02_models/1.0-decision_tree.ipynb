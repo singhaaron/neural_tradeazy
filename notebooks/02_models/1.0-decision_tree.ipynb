{
 "cells": [
  {
   "cell_type": "code",
   "execution_count": 14,
   "source": [
    "# standard library\n",
    "import sys, os, re\n",
    "import math\n",
    "\n",
    "# pip packages\n",
    "import numpy as np\n",
    "import pandas as pd\n",
    "import pickle as p\n",
    "\n",
    "import matplotlib as mpl\n",
    "import matplotlib.pyplot as plt\n",
    "\n",
    "# matplotlib visualize in jupyter\n",
    "%matplotlib inline"
   ],
   "outputs": [],
   "metadata": {}
  },
  {
   "cell_type": "code",
   "execution_count": 2,
   "source": [
    "# initial data\n",
    "data = pd.read_csv(os.path.abspath(os.path.join(\"../..\", \"data\")) + \"/03_processed/01_df_trade_processed.csv\")\n",
    "data.head()"
   ],
   "outputs": [
    {
     "output_type": "execute_result",
     "data": {
      "text/plain": [
       "   trade_num ticker  profit_loss     cap  time_duration  positions  day  week  \\\n",
       "0          0     LC       -10.95  475.45            122          6    3    30   \n",
       "1          1   NAOV        -0.05   25.35            441          2    3    30   \n",
       "2          2   NAOV        -1.00   26.80            121          2    3    30   \n",
       "3          3   NURO        -2.50  106.00            157          2    2    30   \n",
       "4          4   TYHT        -0.60   29.70            123          2    2    30   \n",
       "\n",
       "         date  volume     entry      exit Market Cap Short Float Shs Float  \\\n",
       "0  2021-07-29       5  06:48:38  06:49:24      1.61B       4.86%    94.89M   \n",
       "1  2021-07-29      10  06:39:34  06:45:47     13.24M       0.97%    21.18M   \n",
       "2  2021-07-29      10  06:33:24  06:34:37     13.24M       0.97%    21.18M   \n",
       "3  2021-07-28       5  08:00:53  08:01:44     94.16M       1.74%     1.95M   \n",
       "4  2021-07-28       5  07:51:23  07:52:40     16.89M       6.46%     2.62M   \n",
       "\n",
       "  Market Category  \n",
       "0           small  \n",
       "1            nano  \n",
       "2            nano  \n",
       "3           micro  \n",
       "4            nano  "
      ],
      "text/html": [
       "<div>\n",
       "<style scoped>\n",
       "    .dataframe tbody tr th:only-of-type {\n",
       "        vertical-align: middle;\n",
       "    }\n",
       "\n",
       "    .dataframe tbody tr th {\n",
       "        vertical-align: top;\n",
       "    }\n",
       "\n",
       "    .dataframe thead th {\n",
       "        text-align: right;\n",
       "    }\n",
       "</style>\n",
       "<table border=\"1\" class=\"dataframe\">\n",
       "  <thead>\n",
       "    <tr style=\"text-align: right;\">\n",
       "      <th></th>\n",
       "      <th>trade_num</th>\n",
       "      <th>ticker</th>\n",
       "      <th>profit_loss</th>\n",
       "      <th>cap</th>\n",
       "      <th>time_duration</th>\n",
       "      <th>positions</th>\n",
       "      <th>day</th>\n",
       "      <th>week</th>\n",
       "      <th>date</th>\n",
       "      <th>volume</th>\n",
       "      <th>entry</th>\n",
       "      <th>exit</th>\n",
       "      <th>Market Cap</th>\n",
       "      <th>Short Float</th>\n",
       "      <th>Shs Float</th>\n",
       "      <th>Market Category</th>\n",
       "    </tr>\n",
       "  </thead>\n",
       "  <tbody>\n",
       "    <tr>\n",
       "      <th>0</th>\n",
       "      <td>0</td>\n",
       "      <td>LC</td>\n",
       "      <td>-10.95</td>\n",
       "      <td>475.45</td>\n",
       "      <td>122</td>\n",
       "      <td>6</td>\n",
       "      <td>3</td>\n",
       "      <td>30</td>\n",
       "      <td>2021-07-29</td>\n",
       "      <td>5</td>\n",
       "      <td>06:48:38</td>\n",
       "      <td>06:49:24</td>\n",
       "      <td>1.61B</td>\n",
       "      <td>4.86%</td>\n",
       "      <td>94.89M</td>\n",
       "      <td>small</td>\n",
       "    </tr>\n",
       "    <tr>\n",
       "      <th>1</th>\n",
       "      <td>1</td>\n",
       "      <td>NAOV</td>\n",
       "      <td>-0.05</td>\n",
       "      <td>25.35</td>\n",
       "      <td>441</td>\n",
       "      <td>2</td>\n",
       "      <td>3</td>\n",
       "      <td>30</td>\n",
       "      <td>2021-07-29</td>\n",
       "      <td>10</td>\n",
       "      <td>06:39:34</td>\n",
       "      <td>06:45:47</td>\n",
       "      <td>13.24M</td>\n",
       "      <td>0.97%</td>\n",
       "      <td>21.18M</td>\n",
       "      <td>nano</td>\n",
       "    </tr>\n",
       "    <tr>\n",
       "      <th>2</th>\n",
       "      <td>2</td>\n",
       "      <td>NAOV</td>\n",
       "      <td>-1.00</td>\n",
       "      <td>26.80</td>\n",
       "      <td>121</td>\n",
       "      <td>2</td>\n",
       "      <td>3</td>\n",
       "      <td>30</td>\n",
       "      <td>2021-07-29</td>\n",
       "      <td>10</td>\n",
       "      <td>06:33:24</td>\n",
       "      <td>06:34:37</td>\n",
       "      <td>13.24M</td>\n",
       "      <td>0.97%</td>\n",
       "      <td>21.18M</td>\n",
       "      <td>nano</td>\n",
       "    </tr>\n",
       "    <tr>\n",
       "      <th>3</th>\n",
       "      <td>3</td>\n",
       "      <td>NURO</td>\n",
       "      <td>-2.50</td>\n",
       "      <td>106.00</td>\n",
       "      <td>157</td>\n",
       "      <td>2</td>\n",
       "      <td>2</td>\n",
       "      <td>30</td>\n",
       "      <td>2021-07-28</td>\n",
       "      <td>5</td>\n",
       "      <td>08:00:53</td>\n",
       "      <td>08:01:44</td>\n",
       "      <td>94.16M</td>\n",
       "      <td>1.74%</td>\n",
       "      <td>1.95M</td>\n",
       "      <td>micro</td>\n",
       "    </tr>\n",
       "    <tr>\n",
       "      <th>4</th>\n",
       "      <td>4</td>\n",
       "      <td>TYHT</td>\n",
       "      <td>-0.60</td>\n",
       "      <td>29.70</td>\n",
       "      <td>123</td>\n",
       "      <td>2</td>\n",
       "      <td>2</td>\n",
       "      <td>30</td>\n",
       "      <td>2021-07-28</td>\n",
       "      <td>5</td>\n",
       "      <td>07:51:23</td>\n",
       "      <td>07:52:40</td>\n",
       "      <td>16.89M</td>\n",
       "      <td>6.46%</td>\n",
       "      <td>2.62M</td>\n",
       "      <td>nano</td>\n",
       "    </tr>\n",
       "  </tbody>\n",
       "</table>\n",
       "</div>"
      ]
     },
     "metadata": {},
     "execution_count": 2
    }
   ],
   "metadata": {}
  },
  {
   "cell_type": "code",
   "execution_count": 3,
   "source": [
    "# set binary output for profit | loss as target variable\n",
    "data[\"net_day\"]=np.where(data[\"profit_loss\"]>0,1,0)\n",
    "target_data = data['net_day']\n",
    "input_data = data[['Market Category']]"
   ],
   "outputs": [],
   "metadata": {}
  },
  {
   "cell_type": "code",
   "execution_count": 4,
   "source": [
    "from sklearn.preprocessing import LabelEncoder"
   ],
   "outputs": [],
   "metadata": {}
  },
  {
   "cell_type": "code",
   "execution_count": 5,
   "source": [
    "le_market_category = LabelEncoder()"
   ],
   "outputs": [],
   "metadata": {}
  },
  {
   "cell_type": "code",
   "execution_count": 6,
   "source": [
    "input_data['market_category_'] = le_market_category.fit_transform(data['Market Category'])\n",
    "del input_data['Market Category']"
   ],
   "outputs": [
    {
     "output_type": "stream",
     "name": "stderr",
     "text": [
      "/usr/local/lib/python3.9/site-packages/pandas/core/frame.py:3607: SettingWithCopyWarning: \n",
      "A value is trying to be set on a copy of a slice from a DataFrame.\n",
      "Try using .loc[row_indexer,col_indexer] = value instead\n",
      "\n",
      "See the caveats in the documentation: https://pandas.pydata.org/pandas-docs/stable/user_guide/indexing.html#returning-a-view-versus-a-copy\n",
      "  self._set_item(key, value)\n"
     ]
    }
   ],
   "metadata": {}
  },
  {
   "cell_type": "code",
   "execution_count": 7,
   "source": [
    "# train classifier\n",
    "from sklearn import tree"
   ],
   "outputs": [],
   "metadata": {}
  },
  {
   "cell_type": "code",
   "execution_count": 8,
   "source": [
    "model = tree.DecisionTreeClassifier()\n",
    "model.fit(input_data,target_data)"
   ],
   "outputs": [
    {
     "output_type": "execute_result",
     "data": {
      "text/plain": [
       "DecisionTreeClassifier()"
      ]
     },
     "metadata": {},
     "execution_count": 8
    }
   ],
   "metadata": {}
  },
  {
   "cell_type": "code",
   "execution_count": 9,
   "source": [
    "model.score(input_data,target_data)"
   ],
   "outputs": [
    {
     "output_type": "execute_result",
     "data": {
      "text/plain": [
       "0.5337954939341422"
      ]
     },
     "metadata": {},
     "execution_count": 9
    }
   ],
   "metadata": {}
  },
  {
   "cell_type": "code",
   "execution_count": 10,
   "source": [
    "input_data"
   ],
   "outputs": [
    {
     "output_type": "execute_result",
     "data": {
      "text/plain": [
       "      market_category_\n",
       "0                    5\n",
       "1                    4\n",
       "2                    4\n",
       "3                    2\n",
       "4                    4\n",
       "...                ...\n",
       "1149                 5\n",
       "1150                 5\n",
       "1151                 5\n",
       "1152                 5\n",
       "1153                 5\n",
       "\n",
       "[1154 rows x 1 columns]"
      ],
      "text/html": [
       "<div>\n",
       "<style scoped>\n",
       "    .dataframe tbody tr th:only-of-type {\n",
       "        vertical-align: middle;\n",
       "    }\n",
       "\n",
       "    .dataframe tbody tr th {\n",
       "        vertical-align: top;\n",
       "    }\n",
       "\n",
       "    .dataframe thead th {\n",
       "        text-align: right;\n",
       "    }\n",
       "</style>\n",
       "<table border=\"1\" class=\"dataframe\">\n",
       "  <thead>\n",
       "    <tr style=\"text-align: right;\">\n",
       "      <th></th>\n",
       "      <th>market_category_</th>\n",
       "    </tr>\n",
       "  </thead>\n",
       "  <tbody>\n",
       "    <tr>\n",
       "      <th>0</th>\n",
       "      <td>5</td>\n",
       "    </tr>\n",
       "    <tr>\n",
       "      <th>1</th>\n",
       "      <td>4</td>\n",
       "    </tr>\n",
       "    <tr>\n",
       "      <th>2</th>\n",
       "      <td>4</td>\n",
       "    </tr>\n",
       "    <tr>\n",
       "      <th>3</th>\n",
       "      <td>2</td>\n",
       "    </tr>\n",
       "    <tr>\n",
       "      <th>4</th>\n",
       "      <td>4</td>\n",
       "    </tr>\n",
       "    <tr>\n",
       "      <th>...</th>\n",
       "      <td>...</td>\n",
       "    </tr>\n",
       "    <tr>\n",
       "      <th>1149</th>\n",
       "      <td>5</td>\n",
       "    </tr>\n",
       "    <tr>\n",
       "      <th>1150</th>\n",
       "      <td>5</td>\n",
       "    </tr>\n",
       "    <tr>\n",
       "      <th>1151</th>\n",
       "      <td>5</td>\n",
       "    </tr>\n",
       "    <tr>\n",
       "      <th>1152</th>\n",
       "      <td>5</td>\n",
       "    </tr>\n",
       "    <tr>\n",
       "      <th>1153</th>\n",
       "      <td>5</td>\n",
       "    </tr>\n",
       "  </tbody>\n",
       "</table>\n",
       "<p>1154 rows × 1 columns</p>\n",
       "</div>"
      ]
     },
     "metadata": {},
     "execution_count": 10
    }
   ],
   "metadata": {}
  },
  {
   "cell_type": "code",
   "execution_count": 12,
   "source": [
    "model.predict([[2]])"
   ],
   "outputs": [
    {
     "output_type": "execute_result",
     "data": {
      "text/plain": [
       "array([0])"
      ]
     },
     "metadata": {},
     "execution_count": 12
    }
   ],
   "metadata": {}
  },
  {
   "cell_type": "code",
   "execution_count": 16,
   "source": [
    "# save the model to disk\n",
    "filename = 'decision_tree_model.sav'\n",
    "p.dump(model, open(filename, 'wb'))"
   ],
   "outputs": [],
   "metadata": {}
  }
 ],
 "metadata": {
  "orig_nbformat": 4,
  "language_info": {
   "name": "python",
   "version": "3.9.6",
   "mimetype": "text/x-python",
   "codemirror_mode": {
    "name": "ipython",
    "version": 3
   },
   "pygments_lexer": "ipython3",
   "nbconvert_exporter": "python",
   "file_extension": ".py"
  },
  "kernelspec": {
   "name": "python3",
   "display_name": "Python 3.9.6 64-bit"
  },
  "interpreter": {
   "hash": "aee8b7b246df8f9039afb4144a1f6fd8d2ca17a180786b69acc140d282b71a49"
  }
 },
 "nbformat": 4,
 "nbformat_minor": 2
}