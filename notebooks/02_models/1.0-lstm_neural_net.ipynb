{
 "cells": [
  {
   "cell_type": "markdown",
   "source": [
    "<h3>Objectives</h3>\n",
    "<ul>\n",
    "<li>Model a non-linear function to predict next outcome in profit loss and approximated dependent variables.</li>\n",
    "<ul>"
   ],
   "metadata": {}
  }
 ],
 "metadata": {
  "orig_nbformat": 4,
  "language_info": {
   "name": "python"
  }
 },
 "nbformat": 4,
 "nbformat_minor": 2
}