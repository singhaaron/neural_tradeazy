{
 "cells": [
  {
   "cell_type": "markdown",
   "source": [
    "<h3>Objectives</h3>\n",
    "<ul>\n",
    "<li>Find | Explore if there is a relationship amongst variables that could be modeled with a linear function</li>\n",
    "</ul>"
   ],
   "metadata": {}
  },
  {
   "cell_type": "markdown",
   "source": [
    "<h3>Import Necessary Modules</h3>\n",
    "<ul>\n",
    "<li> Numpy: array based class that allows for transformations from the domain of linear algebra</li>\n",
    "<li> Pandas: data manipulation especially with file types like json, csv, etc</li>\n",
    "<li> Sklearn: linear model</li>\n",
    "<li> MatplotLib: rendering plots</li>\n",
    "<li> MatplotLib Finance: rendering candle stick plots </li>\n",
    "<li> Seaborn: high level wrapper for matplotlib</li>\n",
    "</ul>\n"
   ],
   "metadata": {}
  },
  {
   "cell_type": "code",
   "execution_count": 4,
   "source": [
    "# standard library\n",
    "import os, sys\n",
    "sys.path.append(os.path.abspath(os.path.join(\"../..\", \"src\")))\n",
    "\n",
    "# pip modules\n",
    "import numpy as np\n",
    "import pandas as pd\n",
    "import seaborn as sns\n",
    "import mplfinance as mpf\n",
    "import matplotlib as mpl\n",
    "import matplotlib.pyplot as plt\n",
    "\n",
    "# ml\n",
    "import pickle as p\n",
    "from sklearn import linear_model\n",
    "from sklearn.model_selection import train_test_split\n",
    "\n",
    "# local modules\n",
    "import d02_processing as preprocessor\n",
    "import d01_utils as stats\n",
    "\n",
    "# matplotlib visualize in jupyter\n",
    "%matplotlib inline"
   ],
   "outputs": [],
   "metadata": {}
  },
  {
   "cell_type": "markdown",
   "source": [
    "<h3>Import Processed Data </h3>"
   ],
   "metadata": {}
  },
  {
   "cell_type": "code",
   "execution_count": 5,
   "source": [
    "data = pd.read_csv(os.path.abspath(os.path.join(\"../..\", \"data\")) + \"/03_processed/01_df_trade_processed.csv\")\n",
    "data.head()"
   ],
   "outputs": [
    {
     "output_type": "execute_result",
     "data": {
      "text/plain": [
       "   trade_num ticker  profit_loss     cap  time_duration  positions  day  week  \\\n",
       "0          0   AEHR        -1.75  185.50             91          4    4    28   \n",
       "1          1   AEHR         0.25  176.75             80          4    4    28   \n",
       "2          2   HGSH         0.65  404.50             78          4    4    28   \n",
       "3          3   HGSH        -2.00   66.50             46          2    4    28   \n",
       "4          4   HGSH         0.62   68.00             93          2    4    28   \n",
       "\n",
       "         date  volume  \n",
       "0  2021-07-16      25  \n",
       "1  2021-07-16      25  \n",
       "2  2021-07-16      50  \n",
       "3  2021-07-16      25  \n",
       "4  2021-07-16      25  "
      ],
      "text/html": [
       "<div>\n",
       "<style scoped>\n",
       "    .dataframe tbody tr th:only-of-type {\n",
       "        vertical-align: middle;\n",
       "    }\n",
       "\n",
       "    .dataframe tbody tr th {\n",
       "        vertical-align: top;\n",
       "    }\n",
       "\n",
       "    .dataframe thead th {\n",
       "        text-align: right;\n",
       "    }\n",
       "</style>\n",
       "<table border=\"1\" class=\"dataframe\">\n",
       "  <thead>\n",
       "    <tr style=\"text-align: right;\">\n",
       "      <th></th>\n",
       "      <th>trade_num</th>\n",
       "      <th>ticker</th>\n",
       "      <th>profit_loss</th>\n",
       "      <th>cap</th>\n",
       "      <th>time_duration</th>\n",
       "      <th>positions</th>\n",
       "      <th>day</th>\n",
       "      <th>week</th>\n",
       "      <th>date</th>\n",
       "      <th>volume</th>\n",
       "    </tr>\n",
       "  </thead>\n",
       "  <tbody>\n",
       "    <tr>\n",
       "      <th>0</th>\n",
       "      <td>0</td>\n",
       "      <td>AEHR</td>\n",
       "      <td>-1.75</td>\n",
       "      <td>185.50</td>\n",
       "      <td>91</td>\n",
       "      <td>4</td>\n",
       "      <td>4</td>\n",
       "      <td>28</td>\n",
       "      <td>2021-07-16</td>\n",
       "      <td>25</td>\n",
       "    </tr>\n",
       "    <tr>\n",
       "      <th>1</th>\n",
       "      <td>1</td>\n",
       "      <td>AEHR</td>\n",
       "      <td>0.25</td>\n",
       "      <td>176.75</td>\n",
       "      <td>80</td>\n",
       "      <td>4</td>\n",
       "      <td>4</td>\n",
       "      <td>28</td>\n",
       "      <td>2021-07-16</td>\n",
       "      <td>25</td>\n",
       "    </tr>\n",
       "    <tr>\n",
       "      <th>2</th>\n",
       "      <td>2</td>\n",
       "      <td>HGSH</td>\n",
       "      <td>0.65</td>\n",
       "      <td>404.50</td>\n",
       "      <td>78</td>\n",
       "      <td>4</td>\n",
       "      <td>4</td>\n",
       "      <td>28</td>\n",
       "      <td>2021-07-16</td>\n",
       "      <td>50</td>\n",
       "    </tr>\n",
       "    <tr>\n",
       "      <th>3</th>\n",
       "      <td>3</td>\n",
       "      <td>HGSH</td>\n",
       "      <td>-2.00</td>\n",
       "      <td>66.50</td>\n",
       "      <td>46</td>\n",
       "      <td>2</td>\n",
       "      <td>4</td>\n",
       "      <td>28</td>\n",
       "      <td>2021-07-16</td>\n",
       "      <td>25</td>\n",
       "    </tr>\n",
       "    <tr>\n",
       "      <th>4</th>\n",
       "      <td>4</td>\n",
       "      <td>HGSH</td>\n",
       "      <td>0.62</td>\n",
       "      <td>68.00</td>\n",
       "      <td>93</td>\n",
       "      <td>2</td>\n",
       "      <td>4</td>\n",
       "      <td>28</td>\n",
       "      <td>2021-07-16</td>\n",
       "      <td>25</td>\n",
       "    </tr>\n",
       "  </tbody>\n",
       "</table>\n",
       "</div>"
      ]
     },
     "metadata": {},
     "execution_count": 5
    }
   ],
   "metadata": {}
  },
  {
   "cell_type": "markdown",
   "source": [
    "<h3>Multivariant Linear Regression </h3>"
   ],
   "metadata": {}
  },
  {
   "cell_type": "code",
   "execution_count": 6,
   "source": [
    "X = data[['cap','time_duration','positions','day','week','volume']] # independent variables\n",
    "y = data[['profit_loss']] # dependent variable "
   ],
   "outputs": [],
   "metadata": {}
  },
  {
   "cell_type": "code",
   "execution_count": 7,
   "source": [
    "X_train,X_test,y_train,y_test = train_test_split(X,y,test_size=0.2)"
   ],
   "outputs": [],
   "metadata": {}
  },
  {
   "cell_type": "code",
   "execution_count": 8,
   "source": [
    "clf = linear_model.LinearRegression().fit(X_train,y_train)"
   ],
   "outputs": [],
   "metadata": {}
  },
  {
   "cell_type": "code",
   "execution_count": 9,
   "source": [
    "# coefficients multiplier\n",
    "arr = clf.coef_.tolist()\n",
    "print('Capital: {} Time Duration: {} Positions: {} Day: {} Week: {} Volume: {}'.format(arr[0][0],arr[0][1],arr[0][2],arr[0][3],arr[0][4],arr[0][5]))"
   ],
   "outputs": [
    {
     "output_type": "stream",
     "name": "stdout",
     "text": [
      "Capital: -0.005930552311260009 Time Duration: -0.003508532341666662 Positions: 0.5234969044205794 Day: 0.23682421773498338 Week: 0.015791171158070362 Volume: 0.025365791362647085\n"
     ]
    }
   ],
   "metadata": {}
  },
  {
   "cell_type": "markdown",
   "source": [
    "<h3> Numerical Score for accuracy of model</h3>"
   ],
   "metadata": {}
  },
  {
   "cell_type": "code",
   "execution_count": 10,
   "source": [
    "clf.score(X_test,y_test)"
   ],
   "outputs": [
    {
     "output_type": "execute_result",
     "data": {
      "text/plain": [
       "0.03837166782999457"
      ]
     },
     "metadata": {},
     "execution_count": 10
    }
   ],
   "metadata": {}
  },
  {
   "cell_type": "code",
   "execution_count": null,
   "source": [
    "y_pred = clf.predict(X_test).reshape(1,220)\n",
    "pl_n  = data['profit_loss'].to_numpy()\n",
    "cumulative_history_p_l = np.array(stats.cumulative_sum(data['profit_loss']))\n",
    "cummulative_history_predicted = np.array(stats.cumulative_sum(y_pred.tolist()[0]))\n",
    "last_ = pl_n[-220:]\n",
    "predicted_last_ = cummulative_history_predicted"
   ],
   "outputs": [],
   "metadata": {}
  },
  {
   "cell_type": "code",
   "execution_count": 12,
   "source": [
    "plt.scatter(range(0,len(last_)),last_,color='black')\n",
    "plt.title('profit loss (BLACK) vs predicted profit loss (BLUE)')\n",
    "plt.scatter(range(len(predicted_last_)),predicted_last_,color='blue')"
   ],
   "outputs": [
    {
     "output_type": "execute_result",
     "data": {
      "text/plain": [
       "<matplotlib.collections.PathCollection at 0x13f3de7f0>"
      ]
     },
     "metadata": {},
     "execution_count": 12
    },
    {
     "output_type": "display_data",
     "data": {
      "text/plain": [
       "<Figure size 432x288 with 1 Axes>"
      ],
      "image/png": "[encoded data removed]"
     },
     "metadata": {
      "needs_background": "light"
     }
    }
   ],
   "metadata": {}
  },
  {
   "cell_type": "markdown",
   "source": [
    "<h3>Saving Model To Disk</h3>\n"
   ],
   "metadata": {}
  },
  {
   "cell_type": "code",
   "execution_count": 13,
   "source": [
    "# save the model to disk\n",
    "filename = 'multi_variant_linear_model.sav'\n",
    "p.dump(clf, open(filename, 'wb'))"
   ],
   "outputs": [],
   "metadata": {}
  }
 ],
 "metadata": {
  "orig_nbformat": 4,
  "language_info": {
   "name": "python",
   "version": "3.9.6",
   "mimetype": "text/x-python",
   "codemirror_mode": {
    "name": "ipython",
    "version": 3
   },
   "pygments_lexer": "ipython3",
   "nbconvert_exporter": "python",
   "file_extension": ".py"
  },
  "kernelspec": {
   "name": "python3",
   "display_name": "Python 3.9.6 64-bit"
  },
  "interpreter": {
   "hash": "aee8b7b246df8f9039afb4144a1f6fd8d2ca17a180786b69acc140d282b71a49"
  }
 },
 "nbformat": 4,
 "nbformat_minor": 2
}