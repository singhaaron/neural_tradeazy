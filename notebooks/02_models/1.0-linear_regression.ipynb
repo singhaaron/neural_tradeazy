{
 "cells": [
  {
   "cell_type": "markdown",
   "metadata": {},
   "source": [
    "<h3>Objectives</h3>\n",
    "<ul>\n",
    "<li>Find | Explore if there is a relationship amongst variables that could be modeled with a linear function</li>\n",
    "</ul>"
   ]
  },
  {
   "cell_type": "markdown",
   "metadata": {},
   "source": [
    "<h3>Import Necessary Modules</h3>\n",
    "<ul>\n",
    "<li> Numpy: array based class that allows for transformations from the domain of linear algebra</li>\n",
    "<li> Pandas: data manipulation especially with file types like json, csv, etc</li>\n",
    "<li> Sklearn: linear model</li>\n",
    "<li> MatplotLib: rendering plots</li>\n",
    "<li> MatplotLib Finance: rendering candle stick plots </li>\n",
    "<li> Seaborn: high level wrapper for matplotlib</li>\n",
    "</ul>\n"
   ]
  },
  {
   "cell_type": "code",
   "execution_count": 9,
   "metadata": {},
   "outputs": [],
   "source": [
    "# standard library\n",
    "import os, sys\n",
    "sys.path.append(os.path.abspath(os.path.join(\"../..\", \"src\")))\n",
    "\n",
    "# pip modules\n",
    "import numpy as np\n",
    "import pandas as pd\n",
    "import seaborn as sns\n",
    "import mplfinance as mpf\n",
    "import matplotlib as mpl\n",
    "import matplotlib.pyplot as plt\n",
    "\n",
    "# ml\n",
    "import pickle as p\n",
    "from sklearn import linear_model\n",
    "from sklearn.model_selection import train_test_split\n",
    "\n",
    "# local modules\n",
    "import d02_processing as preprocessor\n",
    "import d01_utils as stats"
   ]
  },
  {
   "cell_type": "markdown",
   "metadata": {},
   "source": [
    "<h3>Import Processed Data </h3>"
   ]
  },
  {
   "cell_type": "code",
   "execution_count": 10,
   "metadata": {},
   "outputs": [
    {
     "data": {
      "text/html": [
       "<div>\n",
       "<style scoped>\n",
       "    .dataframe tbody tr th:only-of-type {\n",
       "        vertical-align: middle;\n",
       "    }\n",
       "\n",
       "    .dataframe tbody tr th {\n",
       "        vertical-align: top;\n",
       "    }\n",
       "\n",
       "    .dataframe thead th {\n",
       "        text-align: right;\n",
       "    }\n",
       "</style>\n",
       "<table border=\"1\" class=\"dataframe\">\n",
       "  <thead>\n",
       "    <tr style=\"text-align: right;\">\n",
       "      <th></th>\n",
       "      <th>trade_num</th>\n",
       "      <th>ticker</th>\n",
       "      <th>profit_loss</th>\n",
       "      <th>cap</th>\n",
       "      <th>time_duration</th>\n",
       "      <th>positions</th>\n",
       "      <th>day</th>\n",
       "      <th>week</th>\n",
       "      <th>date</th>\n",
       "      <th>volume</th>\n",
       "      <th>entry</th>\n",
       "      <th>exit</th>\n",
       "      <th>Market Cap</th>\n",
       "      <th>Short Float</th>\n",
       "      <th>Shs Float</th>\n",
       "      <th>Market Category</th>\n",
       "    </tr>\n",
       "  </thead>\n",
       "  <tbody>\n",
       "    <tr>\n",
       "      <th>0</th>\n",
       "      <td>0</td>\n",
       "      <td>SBEV</td>\n",
       "      <td>1.02</td>\n",
       "      <td>304.98</td>\n",
       "      <td>161</td>\n",
       "      <td>2</td>\n",
       "      <td>4</td>\n",
       "      <td>2</td>\n",
       "      <td>2022-01-14</td>\n",
       "      <td>100</td>\n",
       "      <td>06:45:50</td>\n",
       "      <td>06:46:51</td>\n",
       "      <td>62.28M</td>\n",
       "      <td>2.22%</td>\n",
       "      <td>22.26M</td>\n",
       "      <td>micro</td>\n",
       "    </tr>\n",
       "    <tr>\n",
       "      <th>1</th>\n",
       "      <td>1</td>\n",
       "      <td>ATIP</td>\n",
       "      <td>-4.96</td>\n",
       "      <td>727.00</td>\n",
       "      <td>141</td>\n",
       "      <td>4</td>\n",
       "      <td>4</td>\n",
       "      <td>2</td>\n",
       "      <td>2022-01-14</td>\n",
       "      <td>50</td>\n",
       "      <td>06:41:39</td>\n",
       "      <td>06:42:42</td>\n",
       "      <td>599.70M</td>\n",
       "      <td>1.96%</td>\n",
       "      <td>193.05M</td>\n",
       "      <td>small</td>\n",
       "    </tr>\n",
       "    <tr>\n",
       "      <th>2</th>\n",
       "      <td>2</td>\n",
       "      <td>ATIP</td>\n",
       "      <td>-9.95</td>\n",
       "      <td>362.96</td>\n",
       "      <td>214</td>\n",
       "      <td>2</td>\n",
       "      <td>4</td>\n",
       "      <td>2</td>\n",
       "      <td>2022-01-14</td>\n",
       "      <td>100</td>\n",
       "      <td>06:37:52</td>\n",
       "      <td>06:39:42</td>\n",
       "      <td>599.70M</td>\n",
       "      <td>1.96%</td>\n",
       "      <td>193.05M</td>\n",
       "      <td>small</td>\n",
       "    </tr>\n",
       "    <tr>\n",
       "      <th>3</th>\n",
       "      <td>3</td>\n",
       "      <td>ATIP</td>\n",
       "      <td>-4.20</td>\n",
       "      <td>718.84</td>\n",
       "      <td>26</td>\n",
       "      <td>3</td>\n",
       "      <td>4</td>\n",
       "      <td>2</td>\n",
       "      <td>2022-01-14</td>\n",
       "      <td>100</td>\n",
       "      <td>06:37:01</td>\n",
       "      <td>06:37:25</td>\n",
       "      <td>599.70M</td>\n",
       "      <td>1.96%</td>\n",
       "      <td>193.05M</td>\n",
       "      <td>small</td>\n",
       "    </tr>\n",
       "    <tr>\n",
       "      <th>4</th>\n",
       "      <td>4</td>\n",
       "      <td>ATIP</td>\n",
       "      <td>-7.57</td>\n",
       "      <td>364.87</td>\n",
       "      <td>166</td>\n",
       "      <td>2</td>\n",
       "      <td>4</td>\n",
       "      <td>2</td>\n",
       "      <td>2022-01-14</td>\n",
       "      <td>100</td>\n",
       "      <td>06:32:54</td>\n",
       "      <td>06:33:52</td>\n",
       "      <td>599.70M</td>\n",
       "      <td>1.96%</td>\n",
       "      <td>193.05M</td>\n",
       "      <td>small</td>\n",
       "    </tr>\n",
       "  </tbody>\n",
       "</table>\n",
       "</div>"
      ],
      "text/plain": [
       "   trade_num ticker  profit_loss     cap  time_duration  positions  day  week  \\\n",
       "0          0   SBEV         1.02  304.98            161          2    4     2   \n",
       "1          1   ATIP        -4.96  727.00            141          4    4     2   \n",
       "2          2   ATIP        -9.95  362.96            214          2    4     2   \n",
       "3          3   ATIP        -4.20  718.84             26          3    4     2   \n",
       "4          4   ATIP        -7.57  364.87            166          2    4     2   \n",
       "\n",
       "         date  volume     entry      exit Market Cap Short Float Shs Float  \\\n",
       "0  2022-01-14     100  06:45:50  06:46:51     62.28M       2.22%    22.26M   \n",
       "1  2022-01-14      50  06:41:39  06:42:42    599.70M       1.96%   193.05M   \n",
       "2  2022-01-14     100  06:37:52  06:39:42    599.70M       1.96%   193.05M   \n",
       "3  2022-01-14     100  06:37:01  06:37:25    599.70M       1.96%   193.05M   \n",
       "4  2022-01-14     100  06:32:54  06:33:52    599.70M       1.96%   193.05M   \n",
       "\n",
       "  Market Category  \n",
       "0           micro  \n",
       "1           small  \n",
       "2           small  \n",
       "3           small  \n",
       "4           small  "
      ]
     },
     "execution_count": 10,
     "metadata": {},
     "output_type": "execute_result"
    }
   ],
   "source": [
    "data = pd.read_csv(os.path.abspath(os.path.join(\"../..\", \"data\")) + \"/03_processed/01_df_trade_processed.csv\")\n",
    "data.head()"
   ]
  },
  {
   "cell_type": "markdown",
   "metadata": {},
   "source": [
    "<h3>Multivariant Linear Regression </h3>"
   ]
  },
  {
   "cell_type": "code",
   "execution_count": 11,
   "metadata": {},
   "outputs": [],
   "source": [
    "X = data[['cap','time_duration','positions','day','week','volume']] # independent variables\n",
    "y = data[['profit_loss']] # dependent variable "
   ]
  },
  {
   "cell_type": "code",
   "execution_count": 12,
   "metadata": {},
   "outputs": [],
   "source": [
    "X_train,X_test,y_train,y_test = train_test_split(X,y,test_size=0.2)"
   ]
  },
  {
   "cell_type": "code",
   "execution_count": 13,
   "metadata": {},
   "outputs": [],
   "source": [
    "clf = linear_model.LinearRegression().fit(X_train,y_train)"
   ]
  },
  {
   "cell_type": "code",
   "execution_count": 14,
   "metadata": {},
   "outputs": [
    {
     "name": "stdout",
     "output_type": "stream",
     "text": [
      "Capital: 0.004621722823430013 Time Duration: 0.027402033689590606 Positions: 0.7292938701296585 Day: 0.21332753463481263 Week: -0.013234909606886742 Volume: -0.017253632596069463\n"
     ]
    }
   ],
   "source": [
    "# coefficients multiplier\n",
    "arr = clf.coef_.tolist()\n",
    "print('Capital: {} Time Duration: {} Positions: {} Day: {} Week: {} Volume: {}'.format(arr[0][0],arr[0][1],arr[0][2],arr[0][3],arr[0][4],arr[0][5]))"
   ]
  },
  {
   "cell_type": "markdown",
   "metadata": {},
   "source": [
    "<h3> Numerical Score for accuracy of model</h3>"
   ]
  },
  {
   "cell_type": "code",
   "execution_count": 15,
   "metadata": {},
   "outputs": [
    {
     "data": {
      "text/plain": [
       "-0.056347260080272576"
      ]
     },
     "execution_count": 15,
     "metadata": {},
     "output_type": "execute_result"
    }
   ],
   "source": [
    "clf.score(X_test,y_test)"
   ]
  },
  {
   "cell_type": "code",
   "execution_count": 16,
   "metadata": {},
   "outputs": [],
   "source": [
    "y_pred = clf.predict(X_test).reshape(1,341)\n",
    "pl_n  = data['profit_loss'].to_numpy()\n",
    "cumulative_history_p_l = np.array(stats.cumulative_sum(data['profit_loss']))\n",
    "cummulative_history_predicted = np.array(stats.cumulative_sum(y_pred.tolist()[0]))\n",
    "last_ = pl_n[-220:]\n",
    "predicted_last_ = cummulative_history_predicted"
   ]
  },
  {
   "cell_type": "code",
   "execution_count": 17,
   "metadata": {},
   "outputs": [
    {
     "data": {
      "text/plain": [
       "<matplotlib.collections.PathCollection at 0x12b3cb2e0>"
      ]
     },
     "execution_count": 17,
     "metadata": {},
     "output_type": "execute_result"
    },
    {
     "data": {
      "image/png": "[encoded data removed]",
      "text/plain": [
       "<Figure size 432x288 with 1 Axes>"
      ]
     },
     "metadata": {
      "needs_background": "light"
     },
     "output_type": "display_data"
    }
   ],
   "source": [
    "plt.scatter(range(0,len(last_)),last_,color='black')\n",
    "plt.title('profit loss (BLACK) vs predicted profit loss (BLUE)')\n",
    "plt.scatter(range(len(predicted_last_)),predicted_last_,color='blue')"
   ]
  },
  {
   "cell_type": "markdown",
   "metadata": {},
   "source": [
    "<h3>Saving Model To Disk</h3>\n"
   ]
  },
  {
   "cell_type": "code",
   "execution_count": 18,
   "metadata": {},
   "outputs": [],
   "source": [
    "# save the model to disk\n",
    "filename = 'multi_variant_linear_model.sav'\n",
    "p.dump(clf, open(filename, 'wb'))"
   ]
  }
 ],
 "metadata": {
  "interpreter": {
   "hash": "aee8b7b246df8f9039afb4144a1f6fd8d2ca17a180786b69acc140d282b71a49"
  },
  "kernelspec": {
   "display_name": "Python 3.9.6 64-bit",
   "name": "python3"
  },
  "language_info": {
   "codemirror_mode": {
    "name": "ipython",
    "version": 3
   },
   "file_extension": ".py",
   "mimetype": "text/x-python",
   "name": "python",
   "nbconvert_exporter": "python",
   "pygments_lexer": "ipython3",
   "version": "3.9.9"
  },
  "orig_nbformat": 4
 },
 "nbformat": 4,
 "nbformat_minor": 2
}
